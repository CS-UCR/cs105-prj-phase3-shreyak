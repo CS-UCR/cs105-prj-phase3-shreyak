{
 "cells": [
  {
   "cell_type": "markdown",
   "metadata": {},
   "source": [
    "# Phase 3: Data Analysis & Prediction\n",
    "\n",
    "## Shreya Kumar (861279837)"
   ]
  },
  {
   "cell_type": "code",
   "execution_count": 1,
   "metadata": {},
   "outputs": [
    {
     "data": {
      "text/html": [
       "<div>\n",
       "<style scoped>\n",
       "    .dataframe tbody tr th:only-of-type {\n",
       "        vertical-align: middle;\n",
       "    }\n",
       "\n",
       "    .dataframe tbody tr th {\n",
       "        vertical-align: top;\n",
       "    }\n",
       "\n",
       "    .dataframe thead th {\n",
       "        text-align: right;\n",
       "    }\n",
       "</style>\n",
       "<table border=\"1\" class=\"dataframe\">\n",
       "  <thead>\n",
       "    <tr style=\"text-align: right;\">\n",
       "      <th></th>\n",
       "      <th>Title</th>\n",
       "      <th>Genre</th>\n",
       "      <th>Rating</th>\n",
       "      <th>Votes</th>\n",
       "    </tr>\n",
       "  </thead>\n",
       "  <tbody>\n",
       "    <tr>\n",
       "      <th>0</th>\n",
       "      <td>Guardians of the Galaxy</td>\n",
       "      <td>Action,Adventure,Sci-Fi</td>\n",
       "      <td>8.1</td>\n",
       "      <td>757074</td>\n",
       "    </tr>\n",
       "    <tr>\n",
       "      <th>1</th>\n",
       "      <td>Prometheus</td>\n",
       "      <td>Adventure,Mystery,Sci-Fi</td>\n",
       "      <td>7.0</td>\n",
       "      <td>485820</td>\n",
       "    </tr>\n",
       "    <tr>\n",
       "      <th>2</th>\n",
       "      <td>Split</td>\n",
       "      <td>Horror,Thriller</td>\n",
       "      <td>7.3</td>\n",
       "      <td>157606</td>\n",
       "    </tr>\n",
       "    <tr>\n",
       "      <th>3</th>\n",
       "      <td>Sing</td>\n",
       "      <td>Animation,Comedy,Family</td>\n",
       "      <td>7.2</td>\n",
       "      <td>60545</td>\n",
       "    </tr>\n",
       "    <tr>\n",
       "      <th>4</th>\n",
       "      <td>Suicide Squad</td>\n",
       "      <td>Action,Adventure,Fantasy</td>\n",
       "      <td>6.2</td>\n",
       "      <td>393727</td>\n",
       "    </tr>\n",
       "    <tr>\n",
       "      <th>5</th>\n",
       "      <td>The Great Wall</td>\n",
       "      <td>Action,Adventure,Fantasy</td>\n",
       "      <td>6.1</td>\n",
       "      <td>56036</td>\n",
       "    </tr>\n",
       "    <tr>\n",
       "      <th>6</th>\n",
       "      <td>La La Land</td>\n",
       "      <td>Comedy,Drama,Music</td>\n",
       "      <td>8.3</td>\n",
       "      <td>258682</td>\n",
       "    </tr>\n",
       "    <tr>\n",
       "      <th>7</th>\n",
       "      <td>Mindhorn</td>\n",
       "      <td>Comedy</td>\n",
       "      <td>6.4</td>\n",
       "      <td>2490</td>\n",
       "    </tr>\n",
       "    <tr>\n",
       "      <th>8</th>\n",
       "      <td>The Lost City of Z</td>\n",
       "      <td>Action,Adventure,Biography</td>\n",
       "      <td>7.1</td>\n",
       "      <td>7188</td>\n",
       "    </tr>\n",
       "    <tr>\n",
       "      <th>9</th>\n",
       "      <td>Passengers</td>\n",
       "      <td>Adventure,Drama,Romance</td>\n",
       "      <td>7.0</td>\n",
       "      <td>192177</td>\n",
       "    </tr>\n",
       "    <tr>\n",
       "      <th>10</th>\n",
       "      <td>Fantastic Beasts and Where to Find Them</td>\n",
       "      <td>Adventure,Family,Fantasy</td>\n",
       "      <td>7.5</td>\n",
       "      <td>232072</td>\n",
       "    </tr>\n",
       "    <tr>\n",
       "      <th>11</th>\n",
       "      <td>Hidden Figures</td>\n",
       "      <td>Biography,Drama,History</td>\n",
       "      <td>7.8</td>\n",
       "      <td>93103</td>\n",
       "    </tr>\n",
       "    <tr>\n",
       "      <th>12</th>\n",
       "      <td>Rogue One</td>\n",
       "      <td>Action,Adventure,Sci-Fi</td>\n",
       "      <td>7.9</td>\n",
       "      <td>323118</td>\n",
       "    </tr>\n",
       "    <tr>\n",
       "      <th>13</th>\n",
       "      <td>Moana</td>\n",
       "      <td>Animation,Adventure,Comedy</td>\n",
       "      <td>7.7</td>\n",
       "      <td>118151</td>\n",
       "    </tr>\n",
       "    <tr>\n",
       "      <th>14</th>\n",
       "      <td>Colossal</td>\n",
       "      <td>Action,Comedy,Drama</td>\n",
       "      <td>6.4</td>\n",
       "      <td>8612</td>\n",
       "    </tr>\n",
       "    <tr>\n",
       "      <th>15</th>\n",
       "      <td>The Secret Life of Pets</td>\n",
       "      <td>Animation,Adventure,Comedy</td>\n",
       "      <td>6.6</td>\n",
       "      <td>120259</td>\n",
       "    </tr>\n",
       "    <tr>\n",
       "      <th>16</th>\n",
       "      <td>Hacksaw Ridge</td>\n",
       "      <td>Biography,Drama,History</td>\n",
       "      <td>8.2</td>\n",
       "      <td>211760</td>\n",
       "    </tr>\n",
       "    <tr>\n",
       "      <th>17</th>\n",
       "      <td>Jason Bourne</td>\n",
       "      <td>Action,Thriller</td>\n",
       "      <td>6.7</td>\n",
       "      <td>150823</td>\n",
       "    </tr>\n",
       "    <tr>\n",
       "      <th>18</th>\n",
       "      <td>Lion</td>\n",
       "      <td>Biography,Drama</td>\n",
       "      <td>8.1</td>\n",
       "      <td>102061</td>\n",
       "    </tr>\n",
       "    <tr>\n",
       "      <th>19</th>\n",
       "      <td>Arrival</td>\n",
       "      <td>Drama,Mystery,Sci-Fi</td>\n",
       "      <td>8.0</td>\n",
       "      <td>340798</td>\n",
       "    </tr>\n",
       "  </tbody>\n",
       "</table>\n",
       "</div>"
      ],
      "text/plain": [
       "                                      Title                       Genre  \\\n",
       "0                   Guardians of the Galaxy     Action,Adventure,Sci-Fi   \n",
       "1                                Prometheus    Adventure,Mystery,Sci-Fi   \n",
       "2                                     Split             Horror,Thriller   \n",
       "3                                      Sing     Animation,Comedy,Family   \n",
       "4                             Suicide Squad    Action,Adventure,Fantasy   \n",
       "5                            The Great Wall    Action,Adventure,Fantasy   \n",
       "6                                La La Land          Comedy,Drama,Music   \n",
       "7                                  Mindhorn                      Comedy   \n",
       "8                        The Lost City of Z  Action,Adventure,Biography   \n",
       "9                                Passengers     Adventure,Drama,Romance   \n",
       "10  Fantastic Beasts and Where to Find Them    Adventure,Family,Fantasy   \n",
       "11                           Hidden Figures     Biography,Drama,History   \n",
       "12                                Rogue One     Action,Adventure,Sci-Fi   \n",
       "13                                    Moana  Animation,Adventure,Comedy   \n",
       "14                                 Colossal         Action,Comedy,Drama   \n",
       "15                  The Secret Life of Pets  Animation,Adventure,Comedy   \n",
       "16                            Hacksaw Ridge     Biography,Drama,History   \n",
       "17                             Jason Bourne             Action,Thriller   \n",
       "18                                     Lion             Biography,Drama   \n",
       "19                                  Arrival        Drama,Mystery,Sci-Fi   \n",
       "\n",
       "    Rating   Votes  \n",
       "0      8.1  757074  \n",
       "1      7.0  485820  \n",
       "2      7.3  157606  \n",
       "3      7.2   60545  \n",
       "4      6.2  393727  \n",
       "5      6.1   56036  \n",
       "6      8.3  258682  \n",
       "7      6.4    2490  \n",
       "8      7.1    7188  \n",
       "9      7.0  192177  \n",
       "10     7.5  232072  \n",
       "11     7.8   93103  \n",
       "12     7.9  323118  \n",
       "13     7.7  118151  \n",
       "14     6.4    8612  \n",
       "15     6.6  120259  \n",
       "16     8.2  211760  \n",
       "17     6.7  150823  \n",
       "18     8.1  102061  \n",
       "19     8.0  340798  "
      ]
     },
     "execution_count": 1,
     "metadata": {},
     "output_type": "execute_result"
    }
   ],
   "source": [
    "import warnings\n",
    "warnings.simplefilter(action='ignore', category=FutureWarning)\n",
    "warnings.filterwarnings(\"ignore\", message=\"invalid value encountered\")\n",
    "import pandas as pd\n",
    "import numpy as np\n",
    "from sklearn.linear_model import LinearRegression\n",
    "from scipy import stats\n",
    "\n",
    "df = pd.read_csv('imdb_1000.csv')\n",
    "df1 = df[['Title', 'Genre', 'Rating', 'Votes']]\n",
    "df1.head(20)"
   ]
  },
  {
   "cell_type": "markdown",
   "metadata": {},
   "source": [
    "The raw number of votes isn't very useful for computing distances between movies, so we'll create a new DataFrame that contains the normalized number of ratings. So, a value of 0 means nobody rated it, and a value of 1 will mean it's the most popular movie there is."
   ]
  },
  {
   "cell_type": "code",
   "execution_count": 2,
   "metadata": {},
   "outputs": [
    {
     "data": {
      "text/html": [
       "<div>\n",
       "<style scoped>\n",
       "    .dataframe tbody tr th:only-of-type {\n",
       "        vertical-align: middle;\n",
       "    }\n",
       "\n",
       "    .dataframe tbody tr th {\n",
       "        vertical-align: top;\n",
       "    }\n",
       "\n",
       "    .dataframe thead th {\n",
       "        text-align: right;\n",
       "    }\n",
       "</style>\n",
       "<table border=\"1\" class=\"dataframe\">\n",
       "  <thead>\n",
       "    <tr style=\"text-align: right;\">\n",
       "      <th></th>\n",
       "      <th>Votes</th>\n",
       "      <th>Rating</th>\n",
       "    </tr>\n",
       "  </thead>\n",
       "  <tbody>\n",
       "    <tr>\n",
       "      <th>0</th>\n",
       "      <td>0.422474</td>\n",
       "      <td>0.873239</td>\n",
       "    </tr>\n",
       "    <tr>\n",
       "      <th>1</th>\n",
       "      <td>0.271093</td>\n",
       "      <td>0.718310</td>\n",
       "    </tr>\n",
       "    <tr>\n",
       "      <th>2</th>\n",
       "      <td>0.087923</td>\n",
       "      <td>0.760563</td>\n",
       "    </tr>\n",
       "    <tr>\n",
       "      <th>3</th>\n",
       "      <td>0.033755</td>\n",
       "      <td>0.746479</td>\n",
       "    </tr>\n",
       "    <tr>\n",
       "      <th>4</th>\n",
       "      <td>0.219697</td>\n",
       "      <td>0.605634</td>\n",
       "    </tr>\n",
       "    <tr>\n",
       "      <th>5</th>\n",
       "      <td>0.031239</td>\n",
       "      <td>0.591549</td>\n",
       "    </tr>\n",
       "    <tr>\n",
       "      <th>6</th>\n",
       "      <td>0.144331</td>\n",
       "      <td>0.901408</td>\n",
       "    </tr>\n",
       "    <tr>\n",
       "      <th>7</th>\n",
       "      <td>0.001356</td>\n",
       "      <td>0.633803</td>\n",
       "    </tr>\n",
       "    <tr>\n",
       "      <th>8</th>\n",
       "      <td>0.003977</td>\n",
       "      <td>0.732394</td>\n",
       "    </tr>\n",
       "    <tr>\n",
       "      <th>9</th>\n",
       "      <td>0.107216</td>\n",
       "      <td>0.718310</td>\n",
       "    </tr>\n",
       "    <tr>\n",
       "      <th>10</th>\n",
       "      <td>0.129481</td>\n",
       "      <td>0.788732</td>\n",
       "    </tr>\n",
       "    <tr>\n",
       "      <th>11</th>\n",
       "      <td>0.051925</td>\n",
       "      <td>0.830986</td>\n",
       "    </tr>\n",
       "    <tr>\n",
       "      <th>12</th>\n",
       "      <td>0.180292</td>\n",
       "      <td>0.845070</td>\n",
       "    </tr>\n",
       "    <tr>\n",
       "      <th>13</th>\n",
       "      <td>0.065904</td>\n",
       "      <td>0.816901</td>\n",
       "    </tr>\n",
       "    <tr>\n",
       "      <th>14</th>\n",
       "      <td>0.004772</td>\n",
       "      <td>0.633803</td>\n",
       "    </tr>\n",
       "    <tr>\n",
       "      <th>15</th>\n",
       "      <td>0.067080</td>\n",
       "      <td>0.661972</td>\n",
       "    </tr>\n",
       "    <tr>\n",
       "      <th>16</th>\n",
       "      <td>0.118145</td>\n",
       "      <td>0.887324</td>\n",
       "    </tr>\n",
       "    <tr>\n",
       "      <th>17</th>\n",
       "      <td>0.084137</td>\n",
       "      <td>0.676056</td>\n",
       "    </tr>\n",
       "    <tr>\n",
       "      <th>18</th>\n",
       "      <td>0.056924</td>\n",
       "      <td>0.873239</td>\n",
       "    </tr>\n",
       "    <tr>\n",
       "      <th>19</th>\n",
       "      <td>0.190159</td>\n",
       "      <td>0.859155</td>\n",
       "    </tr>\n",
       "  </tbody>\n",
       "</table>\n",
       "</div>"
      ],
      "text/plain": [
       "       Votes    Rating\n",
       "0   0.422474  0.873239\n",
       "1   0.271093  0.718310\n",
       "2   0.087923  0.760563\n",
       "3   0.033755  0.746479\n",
       "4   0.219697  0.605634\n",
       "5   0.031239  0.591549\n",
       "6   0.144331  0.901408\n",
       "7   0.001356  0.633803\n",
       "8   0.003977  0.732394\n",
       "9   0.107216  0.718310\n",
       "10  0.129481  0.788732\n",
       "11  0.051925  0.830986\n",
       "12  0.180292  0.845070\n",
       "13  0.065904  0.816901\n",
       "14  0.004772  0.633803\n",
       "15  0.067080  0.661972\n",
       "16  0.118145  0.887324\n",
       "17  0.084137  0.676056\n",
       "18  0.056924  0.873239\n",
       "19  0.190159  0.859155"
      ]
     },
     "execution_count": 2,
     "metadata": {},
     "output_type": "execute_result"
    }
   ],
   "source": [
    "popularity = df1[['Votes','Rating']]\n",
    "movieNormalizedNumRatings = popularity.apply(lambda x: (x - np.min(x)) / (np.max(x) - np.min(x)))\n",
    "movieNormalizedNumRatings.head(20)\n"
   ]
  },
  {
   "cell_type": "code",
   "execution_count": 3,
   "metadata": {},
   "outputs": [
    {
     "name": "stdout",
     "output_type": "stream",
     "text": [
      "2006\n",
      "2016\n"
     ]
    }
   ],
   "source": [
    "df.Genre = pd.factorize(df.Genre)[0]\n",
    "\n",
    "print(df[\"Year\"].min())\n",
    "print(df[\"Year\"].max())"
   ]
  },
  {
   "cell_type": "code",
   "execution_count": 4,
   "metadata": {},
   "outputs": [],
   "source": [
    "movieDict = {}\n",
    "for index, row in df.iterrows():\n",
    "    name = row.Title\n",
    "    genre = row.Genre\n",
    "    votes = movieNormalizedNumRatings.loc[index].get('Votes')\n",
    "    avgRating = row.Rating\n",
    "    movieDict[index] = (name,genre,votes,avgRating)\n",
    "    "
   ]
  },
  {
   "cell_type": "markdown",
   "metadata": {},
   "source": [
    "## Part 1: Data Analysis"
   ]
  },
  {
   "cell_type": "markdown",
   "metadata": {},
   "source": [
    "### Fit Model and Produce Intercepts/Coefficients using Linear Regression"
   ]
  },
  {
   "cell_type": "code",
   "execution_count": 5,
   "metadata": {},
   "outputs": [
    {
     "name": "stdout",
     "output_type": "stream",
     "text": [
      "Intercept:  5.5926524415057015\n",
      "Coefficients:  [ 1.90186219e-06 -7.49789883e-04  1.67875397e-02]\n"
     ]
    }
   ],
   "source": [
    "df['Revenue (Millions)'].fillna(0, inplace=True)\n",
    "df['Metascore'].fillna(0, inplace=True)\n",
    "#df.isnull().sum()\n",
    "\n",
    "\n",
    "imdb_train = df.loc[:500].copy()\n",
    "imdb_test = df.loc[501:].copy()\n",
    "\n",
    "#imdb_train[\"log(rating)\"] = np.log(imdb_train[\"Rating\"])\n",
    "\n",
    "imdb_model = LinearRegression()\n",
    "imdb_model.fit(\n",
    "    X=imdb_train[[\"Votes\",\"Revenue (Millions)\", \"Metascore\"]],\n",
    "    y=imdb_train[\"Rating\"]\n",
    ")\n",
    "\n",
    "imdb_model.predict(\n",
    "    X=imdb_test[[\"Votes\", \"Revenue (Millions)\", \"Metascore\"]]\n",
    ")\n",
    "\n",
    "print(\"Intercept: \", imdb_model.intercept_)\n",
    "print(\"Coefficients: \", imdb_model.coef_)"
   ]
  },
  {
   "cell_type": "markdown",
   "metadata": {},
   "source": [
    "### Check Accuracy of Intercept/Coefficients"
   ]
  },
  {
   "cell_type": "code",
   "execution_count": 6,
   "metadata": {},
   "outputs": [
    {
     "name": "stdout",
     "output_type": "stream",
     "text": [
      "The predicted rating for Sing is 6.495582327612669 .\n",
      "The actual rating for Sing is 7.2 .\n"
     ]
    }
   ],
   "source": [
    "votes = df[\"Votes\"].loc[3]\n",
    "revenue = df[\"Revenue (Millions)\"].loc[3]\n",
    "meta = df[\"Metascore\"].loc[3]\n",
    "rating = imdb_model.intercept_ + ((imdb_model.coef_[0]*votes)+ (imdb_model.coef_[1]*revenue) + (imdb_model.coef_[2]*meta))\n",
    "\n",
    "print(\"The predicted rating for\", df[\"Title\"].loc[3], \"is\", rating, \".\")\n",
    "print(\"The actual rating for\", df[\"Title\"].loc[3], \"is\", df[\"Rating\"].loc[3], \".\")"
   ]
  },
  {
   "cell_type": "code",
   "execution_count": 7,
   "metadata": {},
   "outputs": [
    {
     "name": "stdout",
     "output_type": "stream",
     "text": [
      "The magnitude of association between Votes and Rating is:  0.5115373197657553 \n",
      "\n",
      "The magnitude of association between Revenue (Millions) and Rating is:  0.2517210757661679 \n",
      "\n",
      "The magnitude of association between Metascore and Rating is:  0.47244562342549046 \n",
      "\n"
     ]
    }
   ],
   "source": [
    "pearson_coef= stats.pearsonr(df[\"Votes\"], df[\"Rating\"])\n",
    "pearson_coef1= stats.pearsonr(df[\"Revenue (Millions)\"], df[\"Rating\"])\n",
    "pearson_coef2= stats.pearsonr(df[\"Metascore\"], df[\"Rating\"])\n",
    "\n",
    "print(\"The magnitude of association between Votes and Rating is: \", pearson_coef[0], \"\\n\")\n",
    "print(\"The magnitude of association between Revenue (Millions) and Rating is: \", pearson_coef1[0], \"\\n\")\n",
    "print(\"The magnitude of association between Metascore and Rating is: \", pearson_coef2[0], \"\\n\")"
   ]
  },
  {
   "cell_type": "markdown",
   "metadata": {},
   "source": [
    "### Analysis of Linear Regression Results"
   ]
  },
  {
   "cell_type": "markdown",
   "metadata": {},
   "source": [
    "As per our Linear Regression Results, we get an intercept of 5.5926524415057015 and coefficients for Votes, Revenue (Millions) and Metascore as 1.90186219e-06 -7.49789883e-04  1.67875397e-02, respectively. The intercept is what the expected result would be if all features were 0, however that does not make sense - if a movie has 0 voters, 0 revenue and 0 metascore it cannot have a rating. While the intercept itself may not make sense, it still serves a purpose. It gives our line of best fit a starting point which then goes to inform the rest of our predictions. The coefficients suggest that since Votes and Metascore have positive coefficients, higher Votes and Metascore values can be attributed to higher ratings while Revenue (Millions) which has a negative coefficient can be attributed to a lower Rating. However, logically, that doesn't make very much sense. This leads us to question whether Revenue (Millions) actually has any relation to the outcome of Ratings. To determine this, I went ahead and calculated the Pearson Coefficient value for Revenue (Millions). The value we got was 0.25 which indicates a very weak relationship."
   ]
  },
  {
   "cell_type": "markdown",
   "metadata": {},
   "source": [
    "## Part 2: K-NN Clustering to Predict Movie Rating."
   ]
  },
  {
   "cell_type": "code",
   "execution_count": 8,
   "metadata": {},
   "outputs": [],
   "source": [
    "from scipy import spatial\n",
    "\n",
    "def calcDist(a, b):\n",
    "    genreA = a[1]\n",
    "    genreB = b[1]\n",
    "    genreDist = spatial.distance.cosine(genreA, genreB)\n",
    "    popA = a[2]\n",
    "    popB = b[2]\n",
    "    popDist = abs(popA - popB)\n",
    "    return genreDist + popDist\n",
    "    "
   ]
  },
  {
   "cell_type": "markdown",
   "metadata": {},
   "source": [
    "#### Function 1: The purpose of the above function is to calculate the distance between genres and poppularity of a & b which indicates how similar the 2 objects are (higher distance, less similar)."
   ]
  },
  {
   "cell_type": "code",
   "execution_count": 9,
   "metadata": {},
   "outputs": [],
   "source": [
    "import operator\n",
    "\n",
    "def getNeighbor(movieIndex, K):\n",
    "    distances = []\n",
    "    neighbors = []\n",
    "    for movie in movieDict:\n",
    "        if (movie != movieIndex):\n",
    "            dist = calcDist(movieDict[movieIndex], movieDict[movie])\n",
    "            distances.append((movie, dist))\n",
    "    distances.sort(key=operator.itemgetter(1))\n",
    "    \n",
    "    for x in range(K):\n",
    "        neighbors.append(distances[x][0])\n",
    "    return neighbors\n"
   ]
  },
  {
   "cell_type": "markdown",
   "metadata": {},
   "source": [
    "#### Function 2: The purpose of the above function is to return 15 movies which are most similar to the searched movie by using the distance function to compare."
   ]
  },
  {
   "cell_type": "code",
   "execution_count": 10,
   "metadata": {},
   "outputs": [
    {
     "name": "stdout",
     "output_type": "stream",
     "text": [
      "The 15 movies most similar to Sing are: \n",
      "\n",
      "Guardians of the Galaxy 8.1\n",
      "The Great Wall 6.1\n",
      "Bad Moms 6.2\n",
      "Silence 7.3\n",
      "Why Him? 6.3\n",
      "Resident Evil: The Final Chapter 5.6\n",
      "Bahubali: The Beginning 8.3\n",
      "Underworld: Blood Wars 5.8\n",
      "Trolls 6.5\n",
      "The Founder 7.2\n",
      "The Autopsy of Jane Doe 6.8\n",
      "Hidden Figures 7.8\n",
      "Mother's Day 5.6\n",
      "Gold 6.7\n",
      "Lion 8.1\n"
     ]
    }
   ],
   "source": [
    "K = 15\n",
    "avgRating = 0\n",
    "myMovieIndex = 3\n",
    "neighbors = getNeighbor(myMovieIndex, K)\n",
    "print(\"The 15 movies most similar to\", movieDict[myMovieIndex][0], \"are: \\n\")\n",
    "for neighbor in neighbors:\n",
    "    avgRating += movieDict[neighbor][3]\n",
    "    print (movieDict[neighbor][0] + \" \" + str(movieDict[neighbor][3]))\n",
    "    \n",
    "avgRating /= K"
   ]
  },
  {
   "cell_type": "markdown",
   "metadata": {},
   "source": [
    "#### Main Function: The purpose of the above function is to use the array of 15 movies that was found previously, look at their ratings and use the average of those ratings as a prediction for the rating of the searched movie."
   ]
  },
  {
   "cell_type": "code",
   "execution_count": 11,
   "metadata": {},
   "outputs": [
    {
     "name": "stdout",
     "output_type": "stream",
     "text": [
      "The predicted rating for Sing based off of the 10 movies most similar to it is: 6.826666666666666 .\n"
     ]
    }
   ],
   "source": [
    "print(\"The predicted rating for\" , movieDict[myMovieIndex][0], \"based off of the 10 movies most similar to it is:\", avgRating, \".\")\n"
   ]
  },
  {
   "cell_type": "code",
   "execution_count": 12,
   "metadata": {},
   "outputs": [
    {
     "name": "stdout",
     "output_type": "stream",
     "text": [
      "The actual rating for Sing is 7.2\n"
     ]
    }
   ],
   "source": [
    "print(\"The actual rating for\", movieDict[myMovieIndex][0], \"is\", movieDict[myMovieIndex][3])"
   ]
  },
  {
   "cell_type": "markdown",
   "metadata": {},
   "source": [
    "### Analysis of K-NN Results\n",
    "\n",
    "The Nearest Neighbor algorithm performed pretty well. It seems to under-predict the rating of a movie but not by much. Since we're only looking at 2 features, that may have something to do with it's inaccuracy. I think if we added more relevant features such as the Metascore, we could possibly see a more accurate prediction. We could even look into adjusting the K value for a more accurate prediction. In fact, initially I had started with K = 10 but found that I get my most accurate prediction at K = 15. I tried K = 20 but ended up getting a less accurate prediction."
   ]
  },
  {
   "cell_type": "markdown",
   "metadata": {},
   "source": [
    "## Which method was more Accurate?\n",
    "\n",
    "The K-NN Met"
   ]
  }
 ],
 "metadata": {
  "kernelspec": {
   "display_name": "Python 3",
   "language": "python",
   "name": "python3"
  },
  "language_info": {
   "codemirror_mode": {
    "name": "ipython",
    "version": 3
   },
   "file_extension": ".py",
   "mimetype": "text/x-python",
   "name": "python",
   "nbconvert_exporter": "python",
   "pygments_lexer": "ipython3",
   "version": "3.6.8"
  }
 },
 "nbformat": 4,
 "nbformat_minor": 4
}

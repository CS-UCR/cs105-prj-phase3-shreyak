{
 "cells": [
  {
   "cell_type": "markdown",
   "metadata": {
    "hideCode": false,
    "hidePrompt": false
   },
   "source": [
    "# Web Scraping IMDB Top Rated Movies:\n",
    "\n",
    "## Shreya Kumar (861279837)"
   ]
  },
  {
   "cell_type": "code",
   "execution_count": 55,
   "metadata": {
    "hideCode": false,
    "hidePrompt": false
   },
   "outputs": [],
   "source": [
    "# importing basic packages\n",
    "import pandas as pd\n",
    "import numpy as np\n",
    "import matplotlib.pyplot as plt\n",
    "import seaborn as sns\n",
    "%matplotlib inline\n",
    "\n",
    "# packages for web scraping\n",
    "from urllib.request import urlopen\n",
    "from bs4 import BeautifulSoup\n",
    "import requests\n",
    "from requests import get\n",
    "import re"
   ]
  },
  {
   "cell_type": "code",
   "execution_count": 56,
   "metadata": {
    "hideCode": false,
    "hidePrompt": false
   },
   "outputs": [],
   "source": [
    "#  URL containing dataset\n",
    "link1 = \"https://www.imdb.com/chart/top?ref_=nv_mv_250\"\n",
    "main_url = link1\n",
    "html = urlopen(main_url)\n",
    "msoup = BeautifulSoup(html, 'lxml')\n",
    "\n",
    "# Movies by title\n",
    "moviesList = msoup.find_all('td', class_=\"titleColumn\")\n",
    "#testing\n",
    "#print (len(moviesList))"
   ]
  },
  {
   "cell_type": "code",
   "execution_count": 57,
   "metadata": {
    "hideCode": false,
    "hidePrompt": false
   },
   "outputs": [],
   "source": [
    "# movie names\n",
    "movieName = []\n",
    "for row in moviesList:\n",
    "    # title list\n",
    "    mn = row.findAll('a')\n",
    "    movieName.append(mn[0].text)\n",
    "\n",
    "# year released\n",
    "yearReleased = []\n",
    "for row in moviesList:\n",
    "    # year release list\n",
    "    yr = row.findAll('span')\n",
    "    strip1= yr[0].text\n",
    "    strip2= strip1.strip('(')\n",
    "    strip3= strip2.strip(')')\n",
    "    yearReleased.append(float(strip3))\n",
    "\n",
    "# links for individual movies\n",
    "movieLinks = []\n",
    "for row in moviesList:\n",
    "    # movie links list\n",
    "    lnk = row.findAll('a', attrs={'href': re.compile(\"/title\")})\n",
    "    movieLinks.append(lnk[0].get('href')) \n",
    "\n",
    "# movie ratings\n",
    "imdbRate = []\n",
    "imdbRating = msoup.find_all('td', class_=\"ratingColumn imdbRating\")\n",
    "for row in imdbRating:\n",
    "    rt = row.findAll('strong')\n",
    "    imdbRate.append(float(rt[0].text))\n",
    "    "
   ]
  },
  {
   "cell_type": "code",
   "execution_count": 58,
   "metadata": {
    "hideCode": false,
    "hidePrompt": false
   },
   "outputs": [],
   "source": [
    "# data from of movie lists from pages\n",
    "df = pd.DataFrame({'Name of the movie': movieName, \n",
    "                   'Link':movieLinks, \n",
    "                   'Year released' :yearReleased, \n",
    "                   'IMDB rating': imdbRate})"
   ]
  },
  {
   "cell_type": "code",
   "execution_count": 59,
   "metadata": {
    "hideCode": false,
    "hidePrompt": false
   },
   "outputs": [],
   "source": [
    "#testing\n",
    "#df.head(5)"
   ]
  },
  {
   "cell_type": "code",
   "execution_count": 75,
   "metadata": {
    "hideCode": false,
    "hidePrompt": false
   },
   "outputs": [],
   "source": [
    "#values for individual movies\n",
    "revList = [] # list of reviewers\n",
    "movieRating = [] # movie rating\n",
    "movieLength=[] # movie length\n",
    "genre=[] # genre\n",
    "relDate=[] # release date\n",
    "summary=[] # movie summary\n",
    "director=[] # movie director\n",
    "writer=[] # movie writers\n",
    "stars=[] # movie stars\n",
    "keyword=[] # keywords\n",
    "budget=[] # budget\n",
    "grossUS=[] # Gross USA\n",
    "prodCmp=[] # Production company\n",
    "\n",
    "# loops through top 250 movie pages\n",
    "for i in range (0, len(moviesList)): \n",
    "    mov_url = \"https://www.imdb.com\"+df.Link[i]\n",
    "    mov_html = urlopen(mov_url)\n",
    "    mvsoup = BeautifulSoup(mov_html, 'lxml')\n",
    "    \n",
    "    # movie reviewers\n",
    "    reviewers = mvsoup.find_all('span', itemprop=\"ratingCount\" )\n",
    "    res1 = re.sub(',','',reviewers[0].text)\n",
    "    revList.append(float(res1))\n",
    "    \n",
    "    # movie rating\n",
    "    ratings = mvsoup.find('div', class_=\"subtext\").contents\n",
    "    res1 = re.sub(re.compile('\\n'), '',ratings[0].string)\n",
    "    res2 = res1.strip()\n",
    "    movieRating.append(res2) \n",
    "    \n",
    "    # movie length\n",
    "    res3 = mvsoup.find('time').string\n",
    "    res4 = re.sub(re.compile('\\n'), '',res3)\n",
    "    duration = res4.strip()\n",
    "    movieLength.append(duration)\n",
    "    \n",
    "    # movie genre\n",
    "    gen1 = mvsoup.find_all('div', class_=\"see-more inline canwrap\")\n",
    "    cnt=0\n",
    "    for j in range (0,len(gen1)):\n",
    "        if gen1[j].h4 is not None:\n",
    "            res1 = gen1[j].h4.string\n",
    "            if res1==\"Genres:\":\n",
    "                res21=gen1[j].text\n",
    "                genre.append(res21)\n",
    "                cnt=1\n",
    "        if j==len(gen1)-1 and cnt==0:\n",
    "            genre.append(\" \")\n",
    "    \n",
    "    # movie release date\n",
    "    res5 = mvsoup.find('a', title=\"See more release dates\").string\n",
    "    rldt = re.sub(re.compile('\\n'), '',res5)\n",
    "    relDate.append(rldt)\n",
    "    \n",
    "    # movie summary \n",
    "    res6 = mvsoup.find('div', class_=\"summary_text\").string\n",
    "    if res6 is not None:\n",
    "        res7 = re.sub(re.compile('\\n'), '',res6)\n",
    "        smmry = res7.strip()\n",
    "        summary.append(smmry)\n",
    "    else :\n",
    "        summary.append(\" \")\n",
    "    \n",
    "    \n",
    "    # movie director\n",
    "    credt = mvsoup.find_all('div', class_=\"credit_summary_item\")\n",
    "    cnt=0\n",
    "    for j in range (0,len(credt)):\n",
    "        res1 = credt[j].h4.string\n",
    "        if res1==\"Director:\":\n",
    "            res21=credt[j].text\n",
    "            director.append(res21)\n",
    "            cnt=1\n",
    "        if j==len(credt)-1 and cnt==0:\n",
    "            director.append(\" \")\n",
    "    \n",
    "    # movie writers\n",
    "    for j in range (0,3):\n",
    "        res1 = credt[j].h4.string\n",
    "        if res1== 'Writer:' or res1== 'Writers:':\n",
    "            res21=credt[j].text\n",
    "            writer.append(res21)\n",
    "    \n",
    "    # movie stars\n",
    "    for j in range (0,3):\n",
    "        res1 = credt[j].h4.string\n",
    "        if res1== 'Stars:' or res1== 'Star:':\n",
    "            res21=credt[j].text\n",
    "            stars.append(res21)\n",
    "    \n",
    "    # keywords\n",
    "    key = mvsoup.find_all('div', class_=\"see-more inline canwrap\")\n",
    "    cnt=0\n",
    "    for j in range (0,len(key)):\n",
    "        if key[j].h4 is not None:\n",
    "            res1 = key[j].h4.string\n",
    "            if res1==\"Plot Keywords:\":\n",
    "                res21=key[j].text\n",
    "                keyword.append(res21)\n",
    "                cnt=1\n",
    "        if j==len(key)-1 and cnt==0:\n",
    "            keyword.append(\" \")\n",
    "            \n",
    "    \n",
    "    # movie budget\n",
    "    txtblk = mvsoup.find_all('div', class_=\"txt-block\")\n",
    "    cntr=0\n",
    "    for j in range (6,len(txtblk)):\n",
    "        if txtblk[j].h4 is not None:        \n",
    "            res1 = txtblk[j].h4.string\n",
    "            if res1==\"Budget:\":\n",
    "                res21=txtblk[j].text\n",
    "                cntr=1\n",
    "                budget.append(res21)\n",
    "        if j==len(txtblk)-1 and cntr==0:\n",
    "            budget.append(\" \")\n",
    "    \n",
    "    # movie gross USA\n",
    "    cntr=0\n",
    "    for j in range (6,len(txtblk)):\n",
    "        if txtblk[j].h4 is not None:        \n",
    "            res1 = txtblk[j].h4.string\n",
    "            if res1==\"Gross USA:\":\n",
    "                res21=txtblk[j].text\n",
    "                cntr=1\n",
    "                grossUS.append(res21)\n",
    "        if j==len(txtblk)-1 and cntr==0:\n",
    "            grossUS.append(\" \")\n",
    "    \n",
    "    # production company\n",
    "    cnt=0\n",
    "    for j in range (8,len(txtblk)):\n",
    "        if txtblk[j].h4 is not None:        \n",
    "            res1 = txtblk[j].h4.string\n",
    "            if res1==\"Production Co:\":\n",
    "                res21=txtblk[j].text\n",
    "                cnt=1\n",
    "                prodCmp.append(res21)\n",
    "        if j==len(txtblk)-1 and cnt==0:\n",
    "            prodCmp.append(\" \")\n"
   ]
  },
  {
   "cell_type": "code",
   "execution_count": 61,
   "metadata": {
    "hideCode": false,
    "hidePrompt": false
   },
   "outputs": [],
   "source": [
    "df2 = pd.DataFrame({'Reviewers': revList,\n",
    "                   'Movie_rating':movieRating, \n",
    "                   'Movie_duration' :movieLength, \n",
    "                   'Genre': genre,\n",
    "                   'Release_date': relDate,\n",
    "                   'Summary': summary,\n",
    "                   'Director': director,\n",
    "                   'Writers': writer,\n",
    "                   'Stars': stars,\n",
    "                   'PlotKeywords':keyword,\n",
    "                   'Budget': budget,\n",
    "                   'Gross_USA': grossUS,\n",
    "                   'Production_Company': prodCmp})"
   ]
  },
  {
   "cell_type": "code",
   "execution_count": 62,
   "metadata": {
    "hideCode": false,
    "hidePrompt": false,
    "scrolled": true
   },
   "outputs": [],
   "source": [
    "#testing\n",
    "#df2.head(5)"
   ]
  },
  {
   "cell_type": "code",
   "execution_count": 63,
   "metadata": {
    "hideCode": false,
    "hidePrompt": false
   },
   "outputs": [],
   "source": [
    "# clean genre\n",
    "for i in range(0,len(genre)): \n",
    "    comp = re.compile(r'(Genres:|\\n|\\xa0)')\n",
    "    strip1 = re.sub(comp,'',genre[i])\n",
    "    comp1 = re.compile(r'\\|')\n",
    "    strip2 = re.sub(comp1,',',strip1)\n",
    "    strip3=strip2.strip()\n",
    "    genre[i] = strip3"
   ]
  },
  {
   "cell_type": "code",
   "execution_count": 64,
   "metadata": {
    "hideCode": false,
    "hidePrompt": false
   },
   "outputs": [],
   "source": [
    "# splitting genre\n",
    "genre1=[]\n",
    "genre2=[]\n",
    "genre3=[]\n",
    "genre4=[]\n",
    "for i in range (0, len(genre)):\n",
    "    split= re.split(',', genre[i])\n",
    "    if len(split)==1:\n",
    "        genre1.append(split[0])\n",
    "        genre2.append(\" \")\n",
    "        genre3.append(\" \") \n",
    "        genre4.append(\" \")\n",
    "    if len(split)>1 and len(split)<3:\n",
    "        genre1.append(split[0])\n",
    "        genre2.append(split[1])\n",
    "        genre3.append(\" \") \n",
    "        genre4.append(\" \")\n",
    "    if len(split)>2 and len(split)<4:\n",
    "        genre1.append(split[0])\n",
    "        genre2.append(split[1])\n",
    "        genre3.append(split[2]) \n",
    "        genre4.append(\" \")\n",
    "    if len(split)>3 and len(split)<5:\n",
    "        genre1.append(split[0])\n",
    "        genre2.append(split[1])\n",
    "        genre3.append(split[2]) \n",
    "        genre4.append(split[3])\n",
    "    if len(split)>=5:\n",
    "        genre1.append(split[0])\n",
    "        genre2.append(split[1])\n",
    "        genre3.append(split[2]) \n",
    "        genre4.append(split[3])\n"
   ]
  },
  {
   "cell_type": "code",
   "execution_count": 65,
   "metadata": {
    "hideCode": false,
    "hidePrompt": false
   },
   "outputs": [],
   "source": [
    "# clean directors list\n",
    "for i in range(0,len(director)): \n",
    "    comp=re.compile(r'(Director:|\\n)')\n",
    "    strip1=re.sub(comp, '',director[i])\n",
    "    strip2=strip1.strip()\n",
    "    director[i] = strip2"
   ]
  },
  {
   "cell_type": "code",
   "execution_count": 66,
   "metadata": {
    "hideCode": false,
    "hidePrompt": false
   },
   "outputs": [],
   "source": [
    "# clean writers list\n",
    "for i in range(0,len(writer)): \n",
    "    comp=re.compile(r'(Writer:|Writers:|\\n|more credit\\xa0»|more credits\\xa0»)')\n",
    "    strip1=re.sub(comp,'',writer[i])\n",
    "    comp2=re.compile(r'\\|4 | \\|3 | \\|2 | \\|1')\n",
    "    strip2=re.sub(comp2,'',strip1)\n",
    "    strip3=strip2.strip()\n",
    "    writer[i]=strip3"
   ]
  },
  {
   "cell_type": "code",
   "execution_count": 67,
   "metadata": {
    "hideCode": false,
    "hidePrompt": false
   },
   "outputs": [],
   "source": [
    "# split writers\n",
    "writer1=[]\n",
    "writer2=[]\n",
    "writer3=[]\n",
    "for i in range (0, len(writer)):\n",
    "    split= re.split(',', writer[i])\n",
    "    if len(split)==1:\n",
    "        writer1.append(split[0].strip())\n",
    "        writer2.append(\" \")\n",
    "        writer3.append(\" \")       \n",
    "    if len(split)>1 and len(split)<3:\n",
    "        writer1.append(split[0].strip())\n",
    "        writer2.append(split[1].strip())\n",
    "        writer3.append(\" \")\n",
    "    if len(split)>2:\n",
    "        writer1.append(split[0].strip())\n",
    "        writer2.append(split[1].strip())\n",
    "        writer3.append(split[2].strip()) "
   ]
  },
  {
   "cell_type": "code",
   "execution_count": 68,
   "metadata": {
    "hideCode": false,
    "hidePrompt": false
   },
   "outputs": [],
   "source": [
    "# clean stars\n",
    "for i in range(0,len(stars)): \n",
    "    comp=re.compile(r'(Stars:|\\n|See full cast & crew\\xa0»)')\n",
    "    strip1=re.sub(comp,'',stars[i])\n",
    "    comp2=re.compile(r'\\|')\n",
    "    strip2=re.sub(comp2,'',strip1)\n",
    "    strip3=strip2.strip()\n",
    "    stars[i]=strip3"
   ]
  },
  {
   "cell_type": "code",
   "execution_count": 69,
   "metadata": {
    "hideCode": false,
    "hidePrompt": false
   },
   "outputs": [],
   "source": [
    "# split stars\n",
    "star1=[]\n",
    "star2=[]\n",
    "star3=[]\n",
    "star4=[]\n",
    "star5=[]\n",
    "\n",
    "for i in range (0, len(stars)):\n",
    "    split = re.split(',', stars[i])\n",
    "    if len(split)==1:\n",
    "        star1.append(split[0])\n",
    "        star2.append(\" \")\n",
    "        star3.append(\" \") \n",
    "        star4.append(\" \")\n",
    "        star5.append(\" \")\n",
    "        \n",
    "    if len(split)>1 and len(split)<3:\n",
    "        star1.append(split[0])\n",
    "        star2.append(split[1])\n",
    "        star3.append(\" \") \n",
    "        star4.append(\" \")\n",
    "        star5.append(\" \")\n",
    "        \n",
    "    if len(split)>2 and len(split)<4:\n",
    "        star1.append(split[0])\n",
    "        star2.append(split[1])\n",
    "        star3.append(split[2]) \n",
    "        star4.append(\" \")\n",
    "        star5.append(\" \")\n",
    "        \n",
    "    if len(split)>3 and len(split)<5:\n",
    "        star1.append(split[0])\n",
    "        star2.append(split[1])\n",
    "        star3.append(split[2]) \n",
    "        star4.append(split[3])\n",
    "        star5.append(\" \")\n",
    "        \n",
    "    if len(split)>4 and len(split)<6:\n",
    "        star1.append(split[0])\n",
    "        star2.append(split[1])\n",
    "        star3.append(split[2]) \n",
    "        star4.append(split[3])\n",
    "        star5.append(split[4])"
   ]
  },
  {
   "cell_type": "code",
   "execution_count": 70,
   "metadata": {
    "hideCode": false,
    "hidePrompt": false
   },
   "outputs": [],
   "source": [
    "# clean keywords\n",
    "for i in range(0,len(keyword)): \n",
    "    comp=re.compile(r'(Plot Keywords:|\\n|\\xa0See All|\\xa0»)')\n",
    "    strip1=re.sub(comp,'',keyword[i])\n",
    "    comp2=re.compile(r'((|))')\n",
    "    strip2=re.sub(comp2,'',strip1)\n",
    "    strip3=strip2.strip()\n",
    "    keyword[i]=strip3"
   ]
  },
  {
   "cell_type": "code",
   "execution_count": 71,
   "metadata": {
    "hideCode": false,
    "hidePrompt": false
   },
   "outputs": [],
   "source": [
    "# clean budget\n",
    "for i in range(0,len(budget)): \n",
    "    comp=re.compile(r'(Budget:|\\n|\\()|\\)|(estimated)')\n",
    "    strip1=re.sub(comp,'',budget[i])\n",
    "    strip2=strip1.strip()        \n",
    "    budget[i]=strip2\n",
    "\n",
    "# replace symbols\n",
    "for i in range(0,len(budget)): \n",
    "    curr1=budget[i].replace('$', 'USD ')\n",
    "    curr2=curr1.replace('€', 'EUR ')\n",
    "    curr3=curr2.replace('£', 'GBP ')\n",
    "    budget[i]=curr3\n",
    "\n",
    "# separate currencies\n",
    "budget_curr=[]\n",
    "for i in range(0,len(budget)):\n",
    "    strip1= budget[i][0:3]\n",
    "    budget_curr.append(strip1)\n",
    "    \n",
    "\n",
    "# grab numerical value\n",
    "budget_val=[]\n",
    "for i in range(0,len(budget)):\n",
    "    strip1 = re.sub(',','',budget[i])\n",
    "    ln = len(strip1)\n",
    "    if ln>3:\n",
    "        strip2= strip1[4:ln]\n",
    "    if ln<3:\n",
    "        strip2=\"0\"\n",
    "    budget_val.append(float(strip2))\n",
    "    "
   ]
  },
  {
   "cell_type": "code",
   "execution_count": 72,
   "metadata": {
    "hideCode": false,
    "hidePrompt": false
   },
   "outputs": [],
   "source": [
    "# clean grossUS\n",
    "for i in range(0,len(grossUS)): \n",
    "    comp=re.compile(r'(Gross USA:|\\n)')\n",
    "    strip1=re.sub(comp,'',grossUS[i])\n",
    "    com1=re.compile(r'\\xa0')\n",
    "    strip0=re.sub(com1,'',strip1)\n",
    "    strip2=strip0.strip()\n",
    "    grossUS[i]=strip2\n",
    "    \n",
    "# replace symbols\n",
    "for i in range(0,len(grossUS)): \n",
    "    curr1=grossUS[i].replace('$', 'USD ')\n",
    "    curr2=curr1.replace('€', 'EUR ')\n",
    "    curr3=curr2.replace('£', 'GBP ')\n",
    "    grossUS[i]=curr3\n",
    "\n",
    "\n",
    "for i in range(0,len(grossUS)): \n",
    "    comp=re.compile(r'\\xa0')\n",
    "    strip1=re.sub(comp,' ',grossUS[i])\n",
    "    grossUS[i] = strip1\n",
    "\n",
    "\n",
    "# separate currencies\n",
    "grossUS_curr=[]\n",
    "for i in range(0,len(grossUS)):\n",
    "    strip1= grossUS[i][0:3]\n",
    "    grossUS_curr.append(strip1)\n",
    "\n",
    "# grab numerical value\n",
    "grossUS_val=[]\n",
    "for i in range(0,len(grossUS)):\n",
    "    strip1 = re.sub(',','',grossUS[i])\n",
    "    ln = len(strip1)\n",
    "    if ln>2:\n",
    "        strip2= strip1[4:ln]\n",
    "    if ln<2:\n",
    "        strip2='0'\n",
    "    grossUS_val.append(strip2)\n",
    "\n",
    "\n",
    "for j in range(0,len(grossUS_val)):\n",
    "    end = grossUS_val[j].find(' ')\n",
    "    if end>0:\n",
    "        strip1 = grossUS_val[j][0:end]\n",
    "    if end<0:\n",
    "        strip1 = grossUS_val[j]\n",
    "    grossUS_val[j]=float(strip1)\n",
    "\n",
    "    "
   ]
  },
  {
   "cell_type": "code",
   "execution_count": 77,
   "metadata": {
    "hideCode": false,
    "hidePrompt": false
   },
   "outputs": [],
   "source": [
    "# clean production company\n",
    "for i in range(0,len(prodCmp)): \n",
    "    comp=re.compile(r'(Production Co:|\\n|See more\\xa0»)')\n",
    "    strip1=re.sub(comp,'',prodCmp[i])\n",
    "    strip2=strip1.strip()\n",
    "    prodCmp[i]=strip2"
   ]
  },
  {
   "cell_type": "code",
   "execution_count": 78,
   "metadata": {
    "hideCode": false,
    "hidePrompt": false
   },
   "outputs": [],
   "source": [
    "#combine all the information\n",
    "df3 = pd.DataFrame({'Reviewers': revList,\n",
    "                   'Movie_rating':movieRating, \n",
    "                   'Movie_duration' :movieLength, \n",
    "                   'Genre1': genre1,\n",
    "                   'Genre2': genre2,\n",
    "                   'Genre3': genre3,\n",
    "                   'Genre4': genre4,\n",
    "                   'Release_date': relDate,\n",
    "                   'Summary': summary,\n",
    "                   'Director': director,\n",
    "                   'Writer1': writer1,\n",
    "                   'Writer2': writer2,\n",
    "                   'Writer3': writer3,\n",
    "                   'Stars1': star1,\n",
    "                   'Stars2': star2,\n",
    "                   'Stars3': star3,\n",
    "                   'Stars4': star4,\n",
    "                   'Stars5': star5,\n",
    "                   'PlotKeywords':keyword,\n",
    "                   'Budget_curr': budget_curr,\n",
    "                    'Budget_val': budget_val,\n",
    "                   'Gross_USA_curr': grossUS_curr,\n",
    "                    'Gross_USA_val': grossUS_val,\n",
    "                   'Production_Company': prodCmp})"
   ]
  },
  {
   "cell_type": "code",
   "execution_count": 81,
   "metadata": {
    "hideCode": false,
    "hidePrompt": false
   },
   "outputs": [],
   "source": [
    "#testing\n",
    "#df3.head(5)"
   ]
  },
  {
   "cell_type": "code",
   "execution_count": 82,
   "metadata": {
    "hideCode": false,
    "hidePrompt": false
   },
   "outputs": [],
   "source": [
    "#concatenate imdb info with movie info\n",
    "df4 = pd.concat([df, df3], axis=1, sort=False)"
   ]
  },
  {
   "cell_type": "code",
   "execution_count": 85,
   "metadata": {
    "hideCode": false,
    "hidePrompt": false
   },
   "outputs": [],
   "source": [
    "#testing\n",
    "#df4.head(5)"
   ]
  },
  {
   "cell_type": "code",
   "execution_count": 86,
   "metadata": {
    "hideCode": false,
    "hideOutput": true,
    "hidePrompt": false
   },
   "outputs": [],
   "source": [
    "#produce csv file\n",
    "df4.to_csv('imdb_dataset.csv', index=False)"
   ]
  },
  {
   "cell_type": "markdown",
   "metadata": {
    "hideCode": false,
    "hidePrompt": false
   },
   "source": [
    "----"
   ]
  }
 ],
 "metadata": {
  "hide_code_all_hidden": false,
  "kernelspec": {
   "display_name": "Python 3",
   "language": "python",
   "name": "python3"
  },
  "language_info": {
   "codemirror_mode": {
    "name": "ipython",
    "version": 3
   },
   "file_extension": ".py",
   "mimetype": "text/x-python",
   "name": "python",
   "nbconvert_exporter": "python",
   "pygments_lexer": "ipython3",
   "version": "3.6.8"
  }
 },
 "nbformat": 4,
 "nbformat_minor": 4
}
